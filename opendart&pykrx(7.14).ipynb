{
 "cells": [
  {
   "cell_type": "code",
   "execution_count": 1,
   "id": "034720c9",
   "metadata": {},
   "outputs": [],
   "source": [
    "import OpenDartReader\n",
    "import pandas as pd"
   ]
  },
  {
   "cell_type": "code",
   "execution_count": 2,
   "id": "a7333a41",
   "metadata": {},
   "outputs": [],
   "source": [
    "api_key = '92c176817e681dcc4ad263eb3fa5182792b0b7a3'\n",
    "dart = OpenDartReader(api_key)"
   ]
  },
  {
   "cell_type": "code",
   "execution_count": 18,
   "id": "e3cf205c",
   "metadata": {},
   "outputs": [],
   "source": [
    "fs_2019 = dart.finstate_all(corp='005930', bsns_year='2020', fs_div='CFS', reprt_code=11011)\n",
    "fs_2020_3Q = dart.finstate_all(corp='005930', bsns_year='2020', fs_div='CFS', reprt_code=11014)"
   ]
  },
  {
   "cell_type": "code",
   "execution_count": 17,
   "id": "92dce3e5",
   "metadata": {},
   "outputs": [
    {
     "data": {
      "text/plain": [
       "276136188000000"
      ]
     },
     "execution_count": 17,
     "metadata": {},
     "output_type": "execute_result"
    }
   ],
   "source": [
    "int(fs_2020_3Q.loc[fs_2020_3Q['sj_div'].isin(['BS']) & fs_2020_3Q['account_id'].isin(['ifrs-full_Equity']), 'thstrm_amount'].iat[0])"
   ]
  },
  {
   "cell_type": "code",
   "execution_count": 31,
   "id": "ec628bd4",
   "metadata": {},
   "outputs": [],
   "source": [
    "corp = '005930' # 기업코드\n",
    "bsns_year = '2020' # 기준연도\n",
    "fs_div = 'CFS' # 연결재무제표: CFS / 개별재무제표 :OFS\n",
    "reprt_code = '11011' # 사업보고서: 11011 / 반기보고서: 11012 / 1분기보고서: 11013 /  3분기보고서: 11014 \n",
    "\n",
    "def get_equity(corp, bsns_year, fs_div, reprt_code) :\n",
    "    df = dart.finstate_all(corp=corp, bsns_year=bsns_year, fs_div=fs_div, reprt_code=reprt_code)\n",
    "    equity = df.loc[df['sj_div'].isin(['BS']) & df['account_id'].isin(['ifrs-full_Equity']), 'thstrm_amount']\n",
    "    # 재무상태표: 'sj_div'='BS' / 자본총계 : 'account_id'='ifrs-full_Equity' / 값 : 'thstrm_amount'\n",
    "    equity = int(equity.iat[0])\n",
    "    # df의 값 추출\n",
    "    return equity"
   ]
  },
  {
   "cell_type": "code",
   "execution_count": 32,
   "id": "22c00ba2",
   "metadata": {},
   "outputs": [
    {
     "name": "stdout",
     "output_type": "stream",
     "text": [
      "275948016000000\n"
     ]
    }
   ],
   "source": [
    "print(get_equity(corp, bsns_year, fs_div, reprt_code))"
   ]
  },
  {
   "cell_type": "code",
   "execution_count": 39,
   "id": "78b749f3",
   "metadata": {},
   "outputs": [],
   "source": [
    "corp = '005930' # 기업코드\n",
    "bsns_year = '2020' # 기준연도\n",
    "fs_div = 'CFS' # 연결재무제표: CFS / 개별재무제표 :OFS\n",
    "reprt_code = '11011' # 사업보고서: 11011 / 반기보고서: 11012 / 1분기보고서: 11013 /  3분기보고서: 11014 "
   ]
  },
  {
   "cell_type": "code",
   "execution_count": 40,
   "id": "79fa740b",
   "metadata": {},
   "outputs": [],
   "source": [
    "def get_liability(corp, bsns_year, fs_div, reprt_code) :\n",
    "    df = dart.finstate_all(corp=corp, bsns_year=bsns_year, fs_div=fs_div, reprt_code=reprt_code)\n",
    "    liability = df.loc[df['sj_div'].isin(['BS']) & df['account_id'].isin(['ifrs-full_Liabilities']), 'thstrm_amount']\n",
    "    # 재무상태표: 'sj_div'='BS' / 부채총계 : 'account_id'='ifrs-full_Liabilities' / 값 : 'thstrm_amount'\n",
    "    liability = int(liability.iat[0])\n",
    "    # df의 값 추출\n",
    "    return liability"
   ]
  },
  {
   "cell_type": "code",
   "execution_count": 41,
   "id": "aaedf778",
   "metadata": {},
   "outputs": [
    {
     "name": "stdout",
     "output_type": "stream",
     "text": [
      "102287702000000\n"
     ]
    }
   ],
   "source": [
    "print(get_liability(corp, bsns_year, fs_div, reprt_code))"
   ]
  },
  {
   "cell_type": "code",
   "execution_count": 42,
   "id": "a08174c2",
   "metadata": {},
   "outputs": [],
   "source": [
    "def get_profit_loss(corp, bsns_year, fs_div, reprt_code) :\n",
    "    df = dart.finstate_all(corp=corp, bsns_year=bsns_year, fs_div=fs_div, reprt_code=reprt_code)\n",
    "    profit_loss = df.loc[df['sj_div'].isin(['IS']) & df['account_id'].isin(['ifrs-full_ProfitLossAttributableToOwnersOfParent']), 'thstrm_amount']\n",
    "    # 포괄손익계산서: 'sj_div'='IS' / 당기순이익 : 'account_id'='ifrs-full_Equity' / 값 : 'thstrm_amount'\n",
    "    profit_loss = int(profit_loss.iat[0])\n",
    "    # df의 값 추출\n",
    "    return profit_loss"
   ]
  },
  {
   "cell_type": "code",
   "execution_count": 43,
   "id": "e283ca6d",
   "metadata": {},
   "outputs": [
    {
     "name": "stdout",
     "output_type": "stream",
     "text": [
      "26090846000000\n"
     ]
    }
   ],
   "source": [
    "print(get_profit_loss(corp, bsns_year, fs_div, reprt_code))"
   ]
  },
  {
   "cell_type": "code",
   "execution_count": 48,
   "id": "a661c273",
   "metadata": {},
   "outputs": [],
   "source": [
    "def get_grossprofit(corp, bsns_year, fs_div, reprt_code) :\n",
    "    df = dart.finstate_all(corp=corp, bsns_year=bsns_year, fs_div=fs_div, reprt_code=reprt_code)\n",
    "    grossprofit = df.loc[df['sj_div'].isin(['IS']) & df['account_id'].isin(['ifrs-full_GrossProfit']), 'thstrm_amount']\n",
    "    # 포괄손익계산서: 'sj_div'='IS' / 당기순이익 : 'account_id'='ifrs-full_Equity' / 값 : 'thstrm_amount'\n",
    "    grossprofit = int(grossprofit.iat[0])\n",
    "    # df의 값 추출\n",
    "    return grossprofit"
   ]
  },
  {
   "cell_type": "code",
   "execution_count": 49,
   "id": "313e7de2",
   "metadata": {},
   "outputs": [
    {
     "name": "stdout",
     "output_type": "stream",
     "text": [
      "92318692000000\n"
     ]
    }
   ],
   "source": [
    "print(get_grossprofit(corp, bsns_year, fs_div, reprt_code))"
   ]
  },
  {
   "cell_type": "code",
   "execution_count": 51,
   "id": "611514f8",
   "metadata": {},
   "outputs": [],
   "source": [
    "from pykrx import stock"
   ]
  },
  {
   "cell_type": "code",
   "execution_count": 54,
   "id": "7ea31d98",
   "metadata": {},
   "outputs": [
    {
     "data": {
      "text/plain": [
       "309831714345000"
      ]
     },
     "execution_count": 54,
     "metadata": {},
     "output_type": "execute_result"
    }
   ],
   "source": [
    "df = stock.get_market_cap_by_ticker(\"20200625\")\n",
    "df.loc['005930']['시가총액']"
   ]
  },
  {
   "cell_type": "code",
   "execution_count": 57,
   "id": "feef782e",
   "metadata": {},
   "outputs": [
    {
     "data": {
      "text/html": [
       "<div>\n",
       "<style scoped>\n",
       "    .dataframe tbody tr th:only-of-type {\n",
       "        vertical-align: middle;\n",
       "    }\n",
       "\n",
       "    .dataframe tbody tr th {\n",
       "        vertical-align: top;\n",
       "    }\n",
       "\n",
       "    .dataframe thead th {\n",
       "        text-align: right;\n",
       "    }\n",
       "</style>\n",
       "<table border=\"1\" class=\"dataframe\">\n",
       "  <thead>\n",
       "    <tr style=\"text-align: right;\">\n",
       "      <th></th>\n",
       "      <th>BPS</th>\n",
       "      <th>PER</th>\n",
       "      <th>PBR</th>\n",
       "      <th>EPS</th>\n",
       "      <th>DIV</th>\n",
       "      <th>DPS</th>\n",
       "    </tr>\n",
       "    <tr>\n",
       "      <th>티커</th>\n",
       "      <th></th>\n",
       "      <th></th>\n",
       "      <th></th>\n",
       "      <th></th>\n",
       "      <th></th>\n",
       "      <th></th>\n",
       "    </tr>\n",
       "  </thead>\n",
       "  <tbody>\n",
       "    <tr>\n",
       "      <th>060310</th>\n",
       "      <td>745</td>\n",
       "      <td>0.000000</td>\n",
       "      <td>3.029297</td>\n",
       "      <td>0</td>\n",
       "      <td>0.000000</td>\n",
       "      <td>0</td>\n",
       "    </tr>\n",
       "    <tr>\n",
       "      <th>054620</th>\n",
       "      <td>10530</td>\n",
       "      <td>0.000000</td>\n",
       "      <td>0.759766</td>\n",
       "      <td>0</td>\n",
       "      <td>0.000000</td>\n",
       "      <td>0</td>\n",
       "    </tr>\n",
       "    <tr>\n",
       "      <th>265520</th>\n",
       "      <td>7468</td>\n",
       "      <td>38.000000</td>\n",
       "      <td>3.410156</td>\n",
       "      <td>671</td>\n",
       "      <td>0.199951</td>\n",
       "      <td>50</td>\n",
       "    </tr>\n",
       "    <tr>\n",
       "      <th>211270</th>\n",
       "      <td>5479</td>\n",
       "      <td>163.375000</td>\n",
       "      <td>1.519531</td>\n",
       "      <td>51</td>\n",
       "      <td>0.839844</td>\n",
       "      <td>70</td>\n",
       "    </tr>\n",
       "    <tr>\n",
       "      <th>035760</th>\n",
       "      <td>134364</td>\n",
       "      <td>26.703125</td>\n",
       "      <td>1.059570</td>\n",
       "      <td>5310</td>\n",
       "      <td>0.990234</td>\n",
       "      <td>1400</td>\n",
       "    </tr>\n",
       "  </tbody>\n",
       "</table>\n",
       "</div>"
      ],
      "text/plain": [
       "           BPS         PER       PBR   EPS       DIV   DPS\n",
       "티커                                                        \n",
       "060310     745    0.000000  3.029297     0  0.000000     0\n",
       "054620   10530    0.000000  0.759766     0  0.000000     0\n",
       "265520    7468   38.000000  3.410156   671  0.199951    50\n",
       "211270    5479  163.375000  1.519531    51  0.839844    70\n",
       "035760  134364   26.703125  1.059570  5310  0.990234  1400"
      ]
     },
     "execution_count": 57,
     "metadata": {},
     "output_type": "execute_result"
    }
   ],
   "source": [
    "df = stock.get_market_fundamental_by_ticker(\"20210104\", market=\"KOSDAQ\")\n",
    "df.head()"
   ]
  },
  {
   "cell_type": "code",
   "execution_count": 59,
   "id": "05754b44",
   "metadata": {},
   "outputs": [
    {
     "name": "stdout",
     "output_type": "stream",
     "text": [
      "['095570', '068400', '006840', '027410', '282330', '138930', '001460', '001465', '001040', '079160']\n"
     ]
    }
   ],
   "source": [
    "tickers = stock.get_market_ticker_list(\"20190225\", market=\"KOSPI\")  # KOSPI / KOSDAQ / KONEX / ALL / default = KOSPI\n",
    "print(tickers[:10]) "
   ]
  },
  {
   "cell_type": "code",
   "execution_count": null,
   "id": "2b52d0e6",
   "metadata": {},
   "outputs": [],
   "source": []
  }
 ],
 "metadata": {
  "kernelspec": {
   "display_name": "Python 3",
   "language": "python",
   "name": "python3"
  },
  "language_info": {
   "codemirror_mode": {
    "name": "ipython",
    "version": 3
   },
   "file_extension": ".py",
   "mimetype": "text/x-python",
   "name": "python",
   "nbconvert_exporter": "python",
   "pygments_lexer": "ipython3",
   "version": "3.8.6"
  }
 },
 "nbformat": 4,
 "nbformat_minor": 5
}
