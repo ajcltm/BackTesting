{
 "cells": [
  {
   "cell_type": "code",
   "execution_count": 1,
   "id": "4f501e27",
   "metadata": {},
   "outputs": [],
   "source": [
    "import pandas as pd\n",
    "import numpy as np\n",
    "import datetime as dt\n",
    "import matplotlib.pyplot as plt"
   ]
  },
  {
   "cell_type": "code",
   "execution_count": 2,
   "id": "827f63e1",
   "metadata": {},
   "outputs": [
    {
     "name": "stderr",
     "output_type": "stream",
     "text": [
      "c:\\users\\ajcltm\\desktop\\python\\pythonproject\\lib\\site-packages\\numpy\\lib\\arraysetops.py:583: FutureWarning: elementwise comparison failed; returning scalar instead, but in the future will perform elementwise comparison\n",
      "  mask |= (ar1 == a)\n"
     ]
    }
   ],
   "source": [
    "data = pd.read_csv('C:/Users/ajcltm/PycharmProjects/BackTesting/data/stock_price_data_KOSPI_fixed.csv', index_col=0)"
   ]
  },
  {
   "cell_type": "code",
   "execution_count": 3,
   "id": "67a50ce2",
   "metadata": {},
   "outputs": [],
   "source": [
    "indexed_data = data.set_index('date')"
   ]
  },
  {
   "cell_type": "code",
   "execution_count": 4,
   "id": "93160c46",
   "metadata": {},
   "outputs": [
    {
     "data": {
      "text/html": [
       "<div>\n",
       "<style scoped>\n",
       "    .dataframe tbody tr th:only-of-type {\n",
       "        vertical-align: middle;\n",
       "    }\n",
       "\n",
       "    .dataframe tbody tr th {\n",
       "        vertical-align: top;\n",
       "    }\n",
       "\n",
       "    .dataframe thead th {\n",
       "        text-align: right;\n",
       "    }\n",
       "</style>\n",
       "<table border=\"1\" class=\"dataframe\">\n",
       "  <thead>\n",
       "    <tr style=\"text-align: right;\">\n",
       "      <th></th>\n",
       "      <th>symbol</th>\n",
       "      <th>Adj Close</th>\n",
       "      <th>Close</th>\n",
       "      <th>High</th>\n",
       "      <th>Low</th>\n",
       "      <th>Open</th>\n",
       "      <th>Volume</th>\n",
       "    </tr>\n",
       "    <tr>\n",
       "      <th>date</th>\n",
       "      <th></th>\n",
       "      <th></th>\n",
       "      <th></th>\n",
       "      <th></th>\n",
       "      <th></th>\n",
       "      <th></th>\n",
       "      <th></th>\n",
       "    </tr>\n",
       "  </thead>\n",
       "  <tbody>\n",
       "    <tr>\n",
       "      <th>2012-04-26</th>\n",
       "      <td>004000.KS</td>\n",
       "      <td>4.555720e+04</td>\n",
       "      <td>50600.0</td>\n",
       "      <td>52100.0</td>\n",
       "      <td>50400.0</td>\n",
       "      <td>51500.0</td>\n",
       "      <td>66490.0</td>\n",
       "    </tr>\n",
       "    <tr>\n",
       "      <th>2019-08-23</th>\n",
       "      <td>001460.KS</td>\n",
       "      <td>2.290000e+05</td>\n",
       "      <td>229000.0</td>\n",
       "      <td>231000.0</td>\n",
       "      <td>226500.0</td>\n",
       "      <td>227500.0</td>\n",
       "      <td>674.0</td>\n",
       "    </tr>\n",
       "    <tr>\n",
       "      <th>2019-06-05</th>\n",
       "      <td>272550.KS</td>\n",
       "      <td>1.725000e+04</td>\n",
       "      <td>17250.0</td>\n",
       "      <td>17400.0</td>\n",
       "      <td>17150.0</td>\n",
       "      <td>17400.0</td>\n",
       "      <td>30210.0</td>\n",
       "    </tr>\n",
       "    <tr>\n",
       "      <th>2009-12-15</th>\n",
       "      <td>011810.KS</td>\n",
       "      <td>7.248566e+06</td>\n",
       "      <td>7249310.0</td>\n",
       "      <td>7444650.0</td>\n",
       "      <td>7227610.0</td>\n",
       "      <td>7444650.0</td>\n",
       "      <td>899.0</td>\n",
       "    </tr>\n",
       "    <tr>\n",
       "      <th>2016-03-25</th>\n",
       "      <td>042700.KS</td>\n",
       "      <td>5.040503e+03</td>\n",
       "      <td>5800.0</td>\n",
       "      <td>6480.0</td>\n",
       "      <td>5120.0</td>\n",
       "      <td>5140.0</td>\n",
       "      <td>3306172.0</td>\n",
       "    </tr>\n",
       "  </tbody>\n",
       "</table>\n",
       "</div>"
      ],
      "text/plain": [
       "               symbol     Adj Close      Close       High        Low  \\\n",
       "date                                                                   \n",
       "2012-04-26  004000.KS  4.555720e+04    50600.0    52100.0    50400.0   \n",
       "2019-08-23  001460.KS  2.290000e+05   229000.0   231000.0   226500.0   \n",
       "2019-06-05  272550.KS  1.725000e+04    17250.0    17400.0    17150.0   \n",
       "2009-12-15  011810.KS  7.248566e+06  7249310.0  7444650.0  7227610.0   \n",
       "2016-03-25  042700.KS  5.040503e+03     5800.0     6480.0     5120.0   \n",
       "\n",
       "                 Open     Volume  \n",
       "date                              \n",
       "2012-04-26    51500.0    66490.0  \n",
       "2019-08-23   227500.0      674.0  \n",
       "2019-06-05    17400.0    30210.0  \n",
       "2009-12-15  7444650.0      899.0  \n",
       "2016-03-25     5140.0  3306172.0  "
      ]
     },
     "execution_count": 4,
     "metadata": {},
     "output_type": "execute_result"
    }
   ],
   "source": [
    "indexed_data.sample(5)"
   ]
  },
  {
   "cell_type": "code",
   "execution_count": 5,
   "id": "222ac67f",
   "metadata": {
    "scrolled": true
   },
   "outputs": [
    {
     "name": "stdout",
     "output_type": "stream",
     "text": [
      "<class 'pandas.core.frame.DataFrame'>\n",
      "Index: 3042818 entries, 2005-01-04 to 2021-06-28\n",
      "Data columns (total 7 columns):\n",
      " #   Column     Dtype  \n",
      "---  ------     -----  \n",
      " 0   symbol     object \n",
      " 1   Adj Close  float64\n",
      " 2   Close      float64\n",
      " 3   High       float64\n",
      " 4   Low        float64\n",
      " 5   Open       float64\n",
      " 6   Volume     float64\n",
      "dtypes: float64(6), object(1)\n",
      "memory usage: 185.7+ MB\n"
     ]
    }
   ],
   "source": [
    "indexed_data.info()"
   ]
  },
  {
   "cell_type": "code",
   "execution_count": 6,
   "id": "4d97d1fe",
   "metadata": {},
   "outputs": [],
   "source": [
    "indexed_data.index = pd.to_datetime(data.index)"
   ]
  },
  {
   "cell_type": "code",
   "execution_count": 7,
   "id": "8340d008",
   "metadata": {},
   "outputs": [
    {
     "name": "stdout",
     "output_type": "stream",
     "text": [
      "<class 'pandas.core.frame.DataFrame'>\n",
      "DatetimeIndex: 3042818 entries, 1970-01-01 00:00:00 to 1970-01-01 00:00:00.000000003\n",
      "Data columns (total 7 columns):\n",
      " #   Column     Dtype  \n",
      "---  ------     -----  \n",
      " 0   symbol     object \n",
      " 1   Adj Close  float64\n",
      " 2   Close      float64\n",
      " 3   High       float64\n",
      " 4   Low        float64\n",
      " 5   Open       float64\n",
      " 6   Volume     float64\n",
      "dtypes: float64(6), object(1)\n",
      "memory usage: 185.7+ MB\n"
     ]
    }
   ],
   "source": [
    "indexed_data.info()"
   ]
  },
  {
   "cell_type": "code",
   "execution_count": 8,
   "id": "2ea37de7",
   "metadata": {
    "scrolled": true
   },
   "outputs": [
    {
     "data": {
      "text/plain": [
       "(3042818, 7)"
      ]
     },
     "execution_count": 8,
     "metadata": {},
     "output_type": "execute_result"
    }
   ],
   "source": [
    "indexed_data.shape"
   ]
  },
  {
   "cell_type": "code",
   "execution_count": 9,
   "id": "4aa3da33",
   "metadata": {},
   "outputs": [],
   "source": [
    "data['date'] = pd.to_datetime(data['date'])"
   ]
  },
  {
   "cell_type": "code",
   "execution_count": 10,
   "id": "0382d3ce",
   "metadata": {},
   "outputs": [],
   "source": [
    "def current_data(data, symbols, factors) :\n",
    "    \n",
    "    current_time = dt.datetime(2021,7,7)\n",
    "\n",
    "    querydata = data[data['date'] == current_time]\n",
    "    # 현재시간에 해당하는 데이터만 필터\n",
    "\n",
    "    if isinstance(symbols, list) :\n",
    "        if isinstance(factors, list) :\n",
    "        # symbols와 factors 모두 리스트 형태로 넣어준 것이라면\n",
    "            columns = ['symbol']+factors\n",
    "            # 조회하고자하는 데이터 컬럼 정의\n",
    "\n",
    "        else :\n",
    "        # symbols는 리스트, factors는 스칼라 문자형태로 넣어준 것이라면\n",
    "\n",
    "            columns= ['symbol', factors]\n",
    "            # 조회하고자하는 데이터 컬럼 정의\n",
    "\n",
    "        querydata = querydata[querydata['symbol'].isin(symbols)][columns]\n",
    "        # 해당 조건들에 해당하는 데이터프레임 반환\n",
    "\n",
    "    else :\n",
    "        if isinstance(factors, list) :\n",
    "        # symbols는 스칼라 문자형태, factors는 리스트 형태로 넣어준 것이라면\n",
    "\n",
    "            querydata = querydata[querydata['symbol'] == symbols][factors]\n",
    "            # 해당 조건들에 해당하는 데이터프레임 반환\n",
    "\n",
    "        else :\n",
    "        # symbols와 factors 모두 스칼라 문자형태로 넣어준 것이라면\n",
    "            querydata = querydata[querydata['symbol']==symbols][factors].values[0]\n",
    "            # 해당 조건들에 해당하는 스칼라 값을 반환\n",
    "\n",
    "    return querydata"
   ]
  },
  {
   "cell_type": "code",
   "execution_count": 11,
   "id": "edc46684",
   "metadata": {},
   "outputs": [
    {
     "data": {
      "text/plain": [
       "1835.0"
      ]
     },
     "execution_count": 11,
     "metadata": {},
     "output_type": "execute_result"
    }
   ],
   "source": [
    "symbols='090080.KS'\n",
    "factors='Adj Close'\n",
    "current_data(data, symbols, factors)"
   ]
  },
  {
   "cell_type": "code",
   "execution_count": 12,
   "id": "22f1416b",
   "metadata": {},
   "outputs": [
    {
     "data": {
      "text/html": [
       "<div>\n",
       "<style scoped>\n",
       "    .dataframe tbody tr th:only-of-type {\n",
       "        vertical-align: middle;\n",
       "    }\n",
       "\n",
       "    .dataframe tbody tr th {\n",
       "        vertical-align: top;\n",
       "    }\n",
       "\n",
       "    .dataframe thead th {\n",
       "        text-align: right;\n",
       "    }\n",
       "</style>\n",
       "<table border=\"1\" class=\"dataframe\">\n",
       "  <thead>\n",
       "    <tr style=\"text-align: right;\">\n",
       "      <th></th>\n",
       "      <th>symbol</th>\n",
       "      <th>Adj Close</th>\n",
       "      <th>High</th>\n",
       "    </tr>\n",
       "  </thead>\n",
       "  <tbody>\n",
       "    <tr>\n",
       "      <th>3032209</th>\n",
       "      <td>008350.KS</td>\n",
       "      <td>3890.0</td>\n",
       "      <td>4065.0</td>\n",
       "    </tr>\n",
       "    <tr>\n",
       "      <th>3032558</th>\n",
       "      <td>090080.KS</td>\n",
       "      <td>1835.0</td>\n",
       "      <td>1880.0</td>\n",
       "    </tr>\n",
       "  </tbody>\n",
       "</table>\n",
       "</div>"
      ],
      "text/plain": [
       "            symbol  Adj Close    High\n",
       "3032209  008350.KS     3890.0  4065.0\n",
       "3032558  090080.KS     1835.0  1880.0"
      ]
     },
     "execution_count": 12,
     "metadata": {},
     "output_type": "execute_result"
    }
   ],
   "source": [
    "symbols=['090080.KS', '008350.KS']\n",
    "factors=['Adj Close', 'High']\n",
    "current_data(data, symbols, factors)"
   ]
  },
  {
   "cell_type": "code",
   "execution_count": 53,
   "id": "38487355",
   "metadata": {},
   "outputs": [],
   "source": [
    "def current_data_ver2(data, symbols, factors) :\n",
    "    current_time = dt.datetime(2021,7,7)\n",
    "    \n",
    "    search_symbols = np.array([symbols]).reshape(-1).tolist()\n",
    "    \n",
    "    if isinstance(symbols, list):\n",
    "        column = ['symbol']+np.array([factors]).reshape(-1).tolist()\n",
    "        return data.loc[(data['date']==current_time) & (data['symbol'].isin(search_symbols)), column]\n",
    "    else:\n",
    "        column = factors\n",
    "        if isinstance(factors, list):\n",
    "            return data.loc[(data['date']==current_time) & (data['symbol'].isin(search_symbols)), column]\n",
    "        else :\n",
    "            return data.loc[(data['date']==current_time) & (data['symbol'].isin(search_symbols)), column].iat[0]"
   ]
  },
  {
   "cell_type": "code",
   "execution_count": 60,
   "id": "b85cfd44",
   "metadata": {},
   "outputs": [
    {
     "data": {
      "text/html": [
       "<div>\n",
       "<style scoped>\n",
       "    .dataframe tbody tr th:only-of-type {\n",
       "        vertical-align: middle;\n",
       "    }\n",
       "\n",
       "    .dataframe tbody tr th {\n",
       "        vertical-align: top;\n",
       "    }\n",
       "\n",
       "    .dataframe thead th {\n",
       "        text-align: right;\n",
       "    }\n",
       "</style>\n",
       "<table border=\"1\" class=\"dataframe\">\n",
       "  <thead>\n",
       "    <tr style=\"text-align: right;\">\n",
       "      <th></th>\n",
       "      <th>symbol</th>\n",
       "      <th>Adj Close</th>\n",
       "    </tr>\n",
       "  </thead>\n",
       "  <tbody>\n",
       "    <tr>\n",
       "      <th>3032558</th>\n",
       "      <td>090080.KS</td>\n",
       "      <td>1835.0</td>\n",
       "    </tr>\n",
       "  </tbody>\n",
       "</table>\n",
       "</div>"
      ],
      "text/plain": [
       "            symbol  Adj Close\n",
       "3032558  090080.KS     1835.0"
      ]
     },
     "execution_count": 60,
     "metadata": {},
     "output_type": "execute_result"
    }
   ],
   "source": [
    "symbols=['090080.KS']\n",
    "factors=['Adj Close']\n",
    "\n",
    "current_data_ver2(data, symbols, factors)"
   ]
  },
  {
   "cell_type": "code",
   "execution_count": null,
   "id": "a7e4a1cc",
   "metadata": {},
   "outputs": [],
   "source": []
  }
 ],
 "metadata": {
  "kernelspec": {
   "display_name": "Python 3",
   "language": "python",
   "name": "python3"
  },
  "language_info": {
   "codemirror_mode": {
    "name": "ipython",
    "version": 3
   },
   "file_extension": ".py",
   "mimetype": "text/x-python",
   "name": "python",
   "nbconvert_exporter": "python",
   "pygments_lexer": "ipython3",
   "version": "3.8.6"
  }
 },
 "nbformat": 4,
 "nbformat_minor": 5
}
