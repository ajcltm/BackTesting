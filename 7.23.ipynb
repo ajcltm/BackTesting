{
 "cells": [
  {
   "cell_type": "code",
   "execution_count": 23,
   "id": "4f501e27",
   "metadata": {},
   "outputs": [],
   "source": [
    "import pandas as pd\n",
    "import numpy as np\n",
    "import datetime as dt\n",
    "import matplotlib.pyplot as plt"
   ]
  },
  {
   "cell_type": "code",
   "execution_count": 24,
   "id": "827f63e1",
   "metadata": {},
   "outputs": [
    {
     "name": "stderr",
     "output_type": "stream",
     "text": [
      "c:\\users\\ajcltm\\desktop\\python\\pythonproject\\lib\\site-packages\\numpy\\lib\\arraysetops.py:583: FutureWarning: elementwise comparison failed; returning scalar instead, but in the future will perform elementwise comparison\n",
      "  mask |= (ar1 == a)\n"
     ]
    }
   ],
   "source": [
    "data = pd.read_csv('C:/Users/ajcltm/PycharmProjects/BackTesting/data/stock_price_data_KOSPI_fixed.csv', index_col=0)"
   ]
  },
  {
   "cell_type": "code",
   "execution_count": 25,
   "id": "67a50ce2",
   "metadata": {},
   "outputs": [],
   "source": [
    "indexed_data = data.set_index('date')"
   ]
  },
  {
   "cell_type": "code",
   "execution_count": 26,
   "id": "93160c46",
   "metadata": {},
   "outputs": [
    {
     "data": {
      "text/html": [
       "<div>\n",
       "<style scoped>\n",
       "    .dataframe tbody tr th:only-of-type {\n",
       "        vertical-align: middle;\n",
       "    }\n",
       "\n",
       "    .dataframe tbody tr th {\n",
       "        vertical-align: top;\n",
       "    }\n",
       "\n",
       "    .dataframe thead th {\n",
       "        text-align: right;\n",
       "    }\n",
       "</style>\n",
       "<table border=\"1\" class=\"dataframe\">\n",
       "  <thead>\n",
       "    <tr style=\"text-align: right;\">\n",
       "      <th></th>\n",
       "      <th>symbol</th>\n",
       "      <th>Adj Close</th>\n",
       "      <th>Close</th>\n",
       "      <th>High</th>\n",
       "      <th>Low</th>\n",
       "      <th>Open</th>\n",
       "      <th>Volume</th>\n",
       "    </tr>\n",
       "    <tr>\n",
       "      <th>date</th>\n",
       "      <th></th>\n",
       "      <th></th>\n",
       "      <th></th>\n",
       "      <th></th>\n",
       "      <th></th>\n",
       "      <th></th>\n",
       "      <th></th>\n",
       "    </tr>\n",
       "  </thead>\n",
       "  <tbody>\n",
       "    <tr>\n",
       "      <th>2006-08-21</th>\n",
       "      <td>090080.KS</td>\n",
       "      <td>1575.258911</td>\n",
       "      <td>1851.099976</td>\n",
       "      <td>1941.479980</td>\n",
       "      <td>1851.099976</td>\n",
       "      <td>1913.430054</td>\n",
       "      <td>324259.0</td>\n",
       "    </tr>\n",
       "    <tr>\n",
       "      <th>2014-05-29</th>\n",
       "      <td>181710.KS</td>\n",
       "      <td>74269.796875</td>\n",
       "      <td>74269.796875</td>\n",
       "      <td>75042.398438</td>\n",
       "      <td>73497.203125</td>\n",
       "      <td>73980.101562</td>\n",
       "      <td>298710.0</td>\n",
       "    </tr>\n",
       "    <tr>\n",
       "      <th>2015-11-27</th>\n",
       "      <td>008350.KS</td>\n",
       "      <td>1128.991455</td>\n",
       "      <td>1235.000000</td>\n",
       "      <td>1280.000000</td>\n",
       "      <td>1235.000000</td>\n",
       "      <td>1260.000000</td>\n",
       "      <td>1118410.0</td>\n",
       "    </tr>\n",
       "    <tr>\n",
       "      <th>2010-08-04</th>\n",
       "      <td>014915.KS</td>\n",
       "      <td>1989.755859</td>\n",
       "      <td>2060.000000</td>\n",
       "      <td>2130.000000</td>\n",
       "      <td>1660.000000</td>\n",
       "      <td>1890.000000</td>\n",
       "      <td>385638.0</td>\n",
       "    </tr>\n",
       "    <tr>\n",
       "      <th>2005-11-03</th>\n",
       "      <td>001725.KS</td>\n",
       "      <td>9599.307617</td>\n",
       "      <td>20800.000000</td>\n",
       "      <td>21750.000000</td>\n",
       "      <td>20450.000000</td>\n",
       "      <td>21750.000000</td>\n",
       "      <td>4100.0</td>\n",
       "    </tr>\n",
       "  </tbody>\n",
       "</table>\n",
       "</div>"
      ],
      "text/plain": [
       "               symbol     Adj Close         Close          High           Low  \\\n",
       "date                                                                            \n",
       "2006-08-21  090080.KS   1575.258911   1851.099976   1941.479980   1851.099976   \n",
       "2014-05-29  181710.KS  74269.796875  74269.796875  75042.398438  73497.203125   \n",
       "2015-11-27  008350.KS   1128.991455   1235.000000   1280.000000   1235.000000   \n",
       "2010-08-04  014915.KS   1989.755859   2060.000000   2130.000000   1660.000000   \n",
       "2005-11-03  001725.KS   9599.307617  20800.000000  21750.000000  20450.000000   \n",
       "\n",
       "                    Open     Volume  \n",
       "date                                 \n",
       "2006-08-21   1913.430054   324259.0  \n",
       "2014-05-29  73980.101562   298710.0  \n",
       "2015-11-27   1260.000000  1118410.0  \n",
       "2010-08-04   1890.000000   385638.0  \n",
       "2005-11-03  21750.000000     4100.0  "
      ]
     },
     "execution_count": 26,
     "metadata": {},
     "output_type": "execute_result"
    }
   ],
   "source": [
    "indexed_data.sample(5)"
   ]
  },
  {
   "cell_type": "code",
   "execution_count": 27,
   "id": "222ac67f",
   "metadata": {
    "scrolled": true
   },
   "outputs": [
    {
     "name": "stdout",
     "output_type": "stream",
     "text": [
      "<class 'pandas.core.frame.DataFrame'>\n",
      "Index: 3042818 entries, 2005-01-04 to 2021-06-28\n",
      "Data columns (total 7 columns):\n",
      " #   Column     Dtype  \n",
      "---  ------     -----  \n",
      " 0   symbol     object \n",
      " 1   Adj Close  float64\n",
      " 2   Close      float64\n",
      " 3   High       float64\n",
      " 4   Low        float64\n",
      " 5   Open       float64\n",
      " 6   Volume     float64\n",
      "dtypes: float64(6), object(1)\n",
      "memory usage: 185.7+ MB\n"
     ]
    }
   ],
   "source": [
    "indexed_data.info()"
   ]
  },
  {
   "cell_type": "code",
   "execution_count": 28,
   "id": "4d97d1fe",
   "metadata": {},
   "outputs": [],
   "source": [
    "indexed_data.index = pd.to_datetime(data.index)"
   ]
  },
  {
   "cell_type": "code",
   "execution_count": 29,
   "id": "8340d008",
   "metadata": {},
   "outputs": [
    {
     "name": "stdout",
     "output_type": "stream",
     "text": [
      "<class 'pandas.core.frame.DataFrame'>\n",
      "DatetimeIndex: 3042818 entries, 1970-01-01 00:00:00 to 1970-01-01 00:00:00.000000003\n",
      "Data columns (total 7 columns):\n",
      " #   Column     Dtype  \n",
      "---  ------     -----  \n",
      " 0   symbol     object \n",
      " 1   Adj Close  float64\n",
      " 2   Close      float64\n",
      " 3   High       float64\n",
      " 4   Low        float64\n",
      " 5   Open       float64\n",
      " 6   Volume     float64\n",
      "dtypes: float64(6), object(1)\n",
      "memory usage: 185.7+ MB\n"
     ]
    }
   ],
   "source": [
    "indexed_data.info()"
   ]
  },
  {
   "cell_type": "code",
   "execution_count": 30,
   "id": "2ea37de7",
   "metadata": {
    "scrolled": true
   },
   "outputs": [
    {
     "data": {
      "text/plain": [
       "(3042818, 7)"
      ]
     },
     "execution_count": 30,
     "metadata": {},
     "output_type": "execute_result"
    }
   ],
   "source": [
    "indexed_data.shape"
   ]
  },
  {
   "cell_type": "code",
   "execution_count": 40,
   "id": "4aa3da33",
   "metadata": {},
   "outputs": [],
   "source": [
    "data['date'] = pd.to_datetime(data['date'])"
   ]
  },
  {
   "cell_type": "code",
   "execution_count": 41,
   "id": "0382d3ce",
   "metadata": {},
   "outputs": [],
   "source": [
    "def current_data(data, symbols, factors) :\n",
    "    \n",
    "    current_time = dt.datetime(2021,7,7)\n",
    "\n",
    "    querydata = data[data['date'] == current_time]\n",
    "    # 현재시간에 해당하는 데이터만 필터\n",
    "\n",
    "    if isinstance(symbols, list) :\n",
    "        if isinstance(factors, list) :\n",
    "        # symbols와 factors 모두 리스트 형태로 넣어준 것이라면\n",
    "            columns = ['symbol']+factors\n",
    "            # 조회하고자하는 데이터 컬럼 정의\n",
    "\n",
    "        else :\n",
    "        # symbols는 리스트, factors는 스칼라 문자형태로 넣어준 것이라면\n",
    "\n",
    "            columns= ['symbol', factors]\n",
    "            # 조회하고자하는 데이터 컬럼 정의\n",
    "\n",
    "        querydata = querydata[querydata['symbol'].isin(symbols)][columns]\n",
    "        # 해당 조건들에 해당하는 데이터프레임 반환\n",
    "\n",
    "    else :\n",
    "        if isinstance(factors, list) :\n",
    "        # symbols는 스칼라 문자형태, factors는 리스트 형태로 넣어준 것이라면\n",
    "\n",
    "            querydata = querydata[querydata['symbol'] == symbols][factors]\n",
    "            # 해당 조건들에 해당하는 데이터프레임 반환\n",
    "\n",
    "        else :\n",
    "        # symbols와 factors 모두 스칼라 문자형태로 넣어준 것이라면\n",
    "            querydata = querydata[querydata['symbol']==symbols][factors].values[0]\n",
    "            # 해당 조건들에 해당하는 스칼라 값을 반환\n",
    "\n",
    "    return querydata"
   ]
  },
  {
   "cell_type": "code",
   "execution_count": 42,
   "id": "edc46684",
   "metadata": {},
   "outputs": [
    {
     "data": {
      "text/plain": [
       "1835.0"
      ]
     },
     "execution_count": 42,
     "metadata": {},
     "output_type": "execute_result"
    }
   ],
   "source": [
    "symbols='090080.KS'\n",
    "factors='Adj Close'\n",
    "current_data(data, symbols, factors)"
   ]
  },
  {
   "cell_type": "code",
   "execution_count": 44,
   "id": "22f1416b",
   "metadata": {},
   "outputs": [
    {
     "data": {
      "text/html": [
       "<div>\n",
       "<style scoped>\n",
       "    .dataframe tbody tr th:only-of-type {\n",
       "        vertical-align: middle;\n",
       "    }\n",
       "\n",
       "    .dataframe tbody tr th {\n",
       "        vertical-align: top;\n",
       "    }\n",
       "\n",
       "    .dataframe thead th {\n",
       "        text-align: right;\n",
       "    }\n",
       "</style>\n",
       "<table border=\"1\" class=\"dataframe\">\n",
       "  <thead>\n",
       "    <tr style=\"text-align: right;\">\n",
       "      <th></th>\n",
       "      <th>symbol</th>\n",
       "      <th>Adj Close</th>\n",
       "      <th>High</th>\n",
       "    </tr>\n",
       "  </thead>\n",
       "  <tbody>\n",
       "    <tr>\n",
       "      <th>3032209</th>\n",
       "      <td>008350.KS</td>\n",
       "      <td>3890.0</td>\n",
       "      <td>4065.0</td>\n",
       "    </tr>\n",
       "    <tr>\n",
       "      <th>3032558</th>\n",
       "      <td>090080.KS</td>\n",
       "      <td>1835.0</td>\n",
       "      <td>1880.0</td>\n",
       "    </tr>\n",
       "  </tbody>\n",
       "</table>\n",
       "</div>"
      ],
      "text/plain": [
       "            symbol  Adj Close    High\n",
       "3032209  008350.KS     3890.0  4065.0\n",
       "3032558  090080.KS     1835.0  1880.0"
      ]
     },
     "execution_count": 44,
     "metadata": {},
     "output_type": "execute_result"
    }
   ],
   "source": [
    "symbols=['090080.KS', '008350.KS']\n",
    "factors=['Adj Close', 'High']\n",
    "current_data(data, symbols, factors)"
   ]
  },
  {
   "cell_type": "code",
   "execution_count": 68,
   "id": "c2603b82",
   "metadata": {},
   "outputs": [
    {
     "data": {
      "text/html": [
       "<div>\n",
       "<style scoped>\n",
       "    .dataframe tbody tr th:only-of-type {\n",
       "        vertical-align: middle;\n",
       "    }\n",
       "\n",
       "    .dataframe tbody tr th {\n",
       "        vertical-align: top;\n",
       "    }\n",
       "\n",
       "    .dataframe thead th {\n",
       "        text-align: right;\n",
       "    }\n",
       "</style>\n",
       "<table border=\"1\" class=\"dataframe\">\n",
       "  <thead>\n",
       "    <tr style=\"text-align: right;\">\n",
       "      <th></th>\n",
       "      <th>symbol</th>\n",
       "      <th>Adj Close</th>\n",
       "      <th>High</th>\n",
       "    </tr>\n",
       "  </thead>\n",
       "  <tbody>\n",
       "    <tr>\n",
       "      <th>3032209</th>\n",
       "      <td>008350.KS</td>\n",
       "      <td>3890.0</td>\n",
       "      <td>4065.0</td>\n",
       "    </tr>\n",
       "    <tr>\n",
       "      <th>3032558</th>\n",
       "      <td>090080.KS</td>\n",
       "      <td>1835.0</td>\n",
       "      <td>1880.0</td>\n",
       "    </tr>\n",
       "  </tbody>\n",
       "</table>\n",
       "</div>"
      ],
      "text/plain": [
       "            symbol  Adj Close    High\n",
       "3032209  008350.KS     3890.0  4065.0\n",
       "3032558  090080.KS     1835.0  1880.0"
      ]
     },
     "execution_count": 68,
     "metadata": {},
     "output_type": "execute_result"
    }
   ],
   "source": [
    "current_time = dt.datetime(2021,7,7)\n",
    "symbols=['090080.KS', '008350.KS']\n",
    "factors=['Adj Close', 'High']\n",
    "column = factors\n",
    "if isinstance(symbols, list):\n",
    "    column = ['symbol']+factors\n",
    "data.loc[(data['date']==current_time) & (data['symbol'].isin(symbols)), column]"
   ]
  },
  {
   "cell_type": "code",
   "execution_count": 83,
   "id": "38487355",
   "metadata": {},
   "outputs": [],
   "source": [
    "def current_data_ver2(data, symbols, factors) :\n",
    "    current_time = dt.datetime(2021,7,7)\n",
    "    column = factors\n",
    "    if isinstance(symbols, list):\n",
    "        column = ['symbol']+factors\n",
    "        return data.loc[(data['date']==current_time) & (data['symbol'].isin(symbols)), column]\n",
    "    else:\n",
    "        symbols = [symbols]\n",
    "        return data.loc[(data['date']==current_time) & (data['symbol'].isin(symbols)), column].iat[0]"
   ]
  },
  {
   "cell_type": "code",
   "execution_count": 86,
   "id": "b85cfd44",
   "metadata": {},
   "outputs": [
    {
     "data": {
      "text/html": [
       "<div>\n",
       "<style scoped>\n",
       "    .dataframe tbody tr th:only-of-type {\n",
       "        vertical-align: middle;\n",
       "    }\n",
       "\n",
       "    .dataframe tbody tr th {\n",
       "        vertical-align: top;\n",
       "    }\n",
       "\n",
       "    .dataframe thead th {\n",
       "        text-align: right;\n",
       "    }\n",
       "</style>\n",
       "<table border=\"1\" class=\"dataframe\">\n",
       "  <thead>\n",
       "    <tr style=\"text-align: right;\">\n",
       "      <th></th>\n",
       "      <th>symbol</th>\n",
       "      <th>Adj Close</th>\n",
       "      <th>High</th>\n",
       "    </tr>\n",
       "  </thead>\n",
       "  <tbody>\n",
       "    <tr>\n",
       "      <th>3032209</th>\n",
       "      <td>008350.KS</td>\n",
       "      <td>3890.0</td>\n",
       "      <td>4065.0</td>\n",
       "    </tr>\n",
       "    <tr>\n",
       "      <th>3032558</th>\n",
       "      <td>090080.KS</td>\n",
       "      <td>1835.0</td>\n",
       "      <td>1880.0</td>\n",
       "    </tr>\n",
       "  </tbody>\n",
       "</table>\n",
       "</div>"
      ],
      "text/plain": [
       "            symbol  Adj Close    High\n",
       "3032209  008350.KS     3890.0  4065.0\n",
       "3032558  090080.KS     1835.0  1880.0"
      ]
     },
     "execution_count": 86,
     "metadata": {},
     "output_type": "execute_result"
    }
   ],
   "source": [
    "symbols=['090080.KS', '008350.KS']\n",
    "factors=['Adj Close', 'High']\n",
    "\n",
    "current_data_ver2(data, symbols, factors)"
   ]
  },
  {
   "cell_type": "code",
   "execution_count": null,
   "id": "a7e4a1cc",
   "metadata": {},
   "outputs": [],
   "source": []
  }
 ],
 "metadata": {
  "kernelspec": {
   "display_name": "Python 3",
   "language": "python",
   "name": "python3"
  },
  "language_info": {
   "codemirror_mode": {
    "name": "ipython",
    "version": 3
   },
   "file_extension": ".py",
   "mimetype": "text/x-python",
   "name": "python",
   "nbconvert_exporter": "python",
   "pygments_lexer": "ipython3",
   "version": "3.8.6"
  }
 },
 "nbformat": 4,
 "nbformat_minor": 5
}
