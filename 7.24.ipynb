{
 "cells": [
  {
   "cell_type": "code",
   "execution_count": 1,
   "id": "1d53197d",
   "metadata": {},
   "outputs": [],
   "source": [
    "import pandas as pd\n",
    "import numpy as np\n",
    "import datetime as dt\n",
    "import matplotlib.pyplot as plt"
   ]
  },
  {
   "cell_type": "code",
   "execution_count": 2,
   "id": "eff4f5bb",
   "metadata": {},
   "outputs": [],
   "source": [
    "def history(data, symbols, factors, periods) :\n",
    "    # symbols와 factors는 스칼라 문자 또는 리스트 형태로 넣어줄 수 있음\n",
    "\n",
    "    date_univers = data.drop_duplicates(['date'])['date']\n",
    "    # context에 저장된 date_univers를 가지고옴\n",
    "    date_univers = date_univers.reset_index(drop=True)\n",
    "    current_time = dt.datetime(2021,6,28)\n",
    "    current_time_index = date_univers[date_univers == current_time].index[0]\n",
    "    # date_univers를 이용해서 현재 시간의 인덱스를 가지고옴\n",
    "    start = current_time_index + 1 - periods\n",
    "    # date_univers에서 조회를 시작하는 날짜의 인덱스는 마지막 날짜(current_time_index + 1)에서 조회기간(periods)를 뺀 값\n",
    "    if start < 0 :\n",
    "        start = 0\n",
    "        # 사용자가 실수 등으로 너무 긴 조회기간을 설정해버려서 index가 0보다 작으면 0으로 설정(조회할 수 있는 가장 먼 시간을 반환)\n",
    "    end = current_time_index + 1\n",
    "    # 조회하는 마지막 날짜를 지정(+1을 하는 이유는 밑에 iloc에 넣었을 때 예를 들어 10을 넣으면 9까지 조회하기 때문)\n",
    "    time_list = [date for date in date_univers.iloc[start:end]]\n",
    "    # 조회하고자하는 날짜 리스트를 생성\n",
    "    querydata = data[data['date'].isin(time_list)]\n",
    "    # 조회시간들에 해당하는 데이터만 필터\n",
    "\n",
    "    if isinstance(symbols, list) :\n",
    "        if isinstance(factors, list) :\n",
    "        # symbols와 factors 모두 리스트 형태로 넣어준 것이라면\n",
    "            columns = ['symbol']+factors\n",
    "            # 조회하고자하는 데이터 컬럼 정의\n",
    "\n",
    "        else :\n",
    "        # symbols는 리스트, factors는 스칼라 문자형태로 넣어준 것이라면\n",
    "\n",
    "            columns= ['symbol', factors]\n",
    "            # 조회하고자하는 데이터 컬럼 정의\n",
    "\n",
    "        querydata = querydata[querydata['symbol'].isin(symbols)][columns]\n",
    "        # 해당 조건들에 해당하는 데이터프레임 반환\n",
    "\n",
    "    else :\n",
    "        if isinstance(factors, list) :\n",
    "        # symbols는 스칼라 문자형태, factors는 리스트 형태로 넣어준 것이라면\n",
    "\n",
    "            querydata = querydata[querydata['symbol'] == symbols][factors]\n",
    "            # 해당 조건들에 해당하는 데이터프레임 반환\n",
    "\n",
    "        else :\n",
    "        # symbols와 factors 모두 스칼라 문자형태로 넣어준 것이라면\n",
    "            querydata = querydata[querydata['symbol']==symbols][factors]\n",
    "            # 해당 조건들에 해당하는 시리즈를 반환 (조회되는 date가 여럿이기 때문에 스칼라가 아닌 시리즈 형태로 반환)\n",
    "\n",
    "    return querydata"
   ]
  },
  {
   "cell_type": "code",
   "execution_count": 3,
   "id": "a6ff4ca4",
   "metadata": {},
   "outputs": [
    {
     "name": "stderr",
     "output_type": "stream",
     "text": [
      "c:\\users\\ajcltm\\desktop\\python\\pythonproject\\lib\\site-packages\\numpy\\lib\\arraysetops.py:583: FutureWarning: elementwise comparison failed; returning scalar instead, but in the future will perform elementwise comparison\n",
      "  mask |= (ar1 == a)\n"
     ]
    }
   ],
   "source": [
    "data = pd.read_csv('C:/Users/ajcltm/PycharmProjects/BackTesting/data/stock_price_data_KOSPI_fixed.csv', index_col=0)"
   ]
  },
  {
   "cell_type": "code",
   "execution_count": 4,
   "id": "8711d687",
   "metadata": {},
   "outputs": [],
   "source": [
    "data['date'] = pd.to_datetime(data['date'])"
   ]
  },
  {
   "cell_type": "code",
   "execution_count": 5,
   "id": "a7ebb30c",
   "metadata": {},
   "outputs": [],
   "source": [
    "data = data.reset_index(drop=True)"
   ]
  },
  {
   "cell_type": "code",
   "execution_count": 99,
   "id": "1516b570",
   "metadata": {},
   "outputs": [
    {
     "data": {
      "text/plain": [
       "3042140    1775.0\n",
       "3042141    1785.0\n",
       "Name: Adj Close, dtype: float64"
      ]
     },
     "execution_count": 99,
     "metadata": {},
     "output_type": "execute_result"
    }
   ],
   "source": [
    "symbols = '090080.KS'\n",
    "factors = 'Adj Close'\n",
    "periods = 2\n",
    "history(data, symbols, factors, periods)"
   ]
  },
  {
   "cell_type": "code",
   "execution_count": 100,
   "id": "63718bc2",
   "metadata": {},
   "outputs": [],
   "source": [
    "def history_ver2(data, symbols, factors, periods) :\n",
    "    \n",
    "    current_time = dt.datetime(2021,6,28)\n",
    "    \n",
    "    date_univers = data.drop_duplicates(['date'])['date']\n",
    "    date_univers.index = date_univers.values\n",
    "    \n",
    "    search_symbols = np.array([symbols]).reshape(-1).tolist()\n",
    "    \n",
    "    if isinstance(symbols, str):\n",
    "        column=factors\n",
    "    else :\n",
    "        column = ['symbol']+np.array([factors]).reshape(-1).tolist()\n",
    "\n",
    "    return data.loc[(data['date'].isin(date_univers.loc[current_time::-1][:periods].index))&(data['symbol'].isin(search_symbols)), column]"
   ]
  },
  {
   "cell_type": "code",
   "execution_count": 101,
   "id": "28fd34f9",
   "metadata": {
    "scrolled": true
   },
   "outputs": [
    {
     "data": {
      "text/plain": [
       "3042140    1775.0\n",
       "3042141    1785.0\n",
       "Name: Adj Close, dtype: float64"
      ]
     },
     "execution_count": 101,
     "metadata": {},
     "output_type": "execute_result"
    }
   ],
   "source": [
    "history_ver2(data, symbols, factors, periods)"
   ]
  },
  {
   "cell_type": "code",
   "execution_count": null,
   "id": "6bf4647d",
   "metadata": {},
   "outputs": [],
   "source": []
  }
 ],
 "metadata": {
  "kernelspec": {
   "display_name": "Python 3",
   "language": "python",
   "name": "python3"
  },
  "language_info": {
   "codemirror_mode": {
    "name": "ipython",
    "version": 3
   },
   "file_extension": ".py",
   "mimetype": "text/x-python",
   "name": "python",
   "nbconvert_exporter": "python",
   "pygments_lexer": "ipython3",
   "version": "3.8.6"
  }
 },
 "nbformat": 4,
 "nbformat_minor": 5
}
